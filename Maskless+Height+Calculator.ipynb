{
 "cells": [
  {
   "cell_type": "code",
   "execution_count": 28,
   "metadata": {},
   "outputs": [],
   "source": [
    "import numpy as np\n",
    "\n",
    "# x is the target height #\n",
    "\n",
    "def extrude_by(x):\n",
    "    if x <= 0.05:\n",
    "        return 0.1\n",
    "    if x <= 0.25:\n",
    "        new_height = 0.1+(x-0.05)*1.5\n",
    "        return np.round(new_height - x, decimals = 3)\n",
    "    if x > 0.25:\n",
    "        new_height = 0.1*2+(x-0.05)*1.5+(x-1.25)\n",
    "        return np.round(new_height - x, decimals = 3)\n",
    "   "
   ]
  },
  {
   "cell_type": "code",
   "execution_count": null,
   "metadata": {
    "collapsed": true
   },
   "outputs": [],
   "source": []
  }
 ],
 "metadata": {
  "kernelspec": {
   "display_name": "Python 3",
   "language": "python",
   "name": "python3"
  },
  "language_info": {
   "codemirror_mode": {
    "name": "ipython",
    "version": 3
   },
   "file_extension": ".py",
   "mimetype": "text/x-python",
   "name": "python",
   "nbconvert_exporter": "python",
   "pygments_lexer": "ipython3",
   "version": "3.6.3"
  }
 },
 "nbformat": 4,
 "nbformat_minor": 2
}
